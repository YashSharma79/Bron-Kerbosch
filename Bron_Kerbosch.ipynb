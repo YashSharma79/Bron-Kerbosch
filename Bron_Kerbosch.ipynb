{
  "nbformat": 4,
  "nbformat_minor": 0,
  "metadata": {
    "colab": {
      "name": "Bron-Kerbosch.ipynb",
      "provenance": [],
      "collapsed_sections": [],
      "include_colab_link": true
    },
    "kernelspec": {
      "name": "python3",
      "display_name": "Python 3"
    },
    "language_info": {
      "name": "python"
    }
  },
  "cells": [
    {
      "cell_type": "markdown",
      "metadata": {
        "id": "view-in-github",
        "colab_type": "text"
      },
      "source": [
        "<a href=\"https://colab.research.google.com/github/YashSharma79/Bron-Kerbosch/blob/main/Bron_Kerbosch.ipynb\" target=\"_parent\"><img src=\"https://colab.research.google.com/assets/colab-badge.svg\" alt=\"Open In Colab\"/></a>"
      ]
    },
    {
      "cell_type": "code",
      "source": [
        "import time\n",
        "import networkx as nx\n",
        "import matplotlib.pyplot as plt \n",
        "import random"
      ],
      "metadata": {
        "id": "FEV3h-VWUr1i"
      },
      "execution_count": null,
      "outputs": []
    },
    {
      "cell_type": "markdown",
      "source": [
        "# Basic Bron-Kerbosch algorithm"
      ],
      "metadata": {
        "id": "fLyRoaK5O2gm"
      }
    },
    {
      "cell_type": "code",
      "source": [
        "def BronKerbosch(R, P, X):\n",
        "  if len(P) == 0 and len(X) == 0:\n",
        "    #R is a clique\n",
        "    clique_finder.density_to_cliques_1[clique_finder.density] += 1\n",
        "    return\n",
        "\n",
        "  for v in P:\n",
        "    v_set = set()\n",
        "    v_set.add(v)\n",
        "    BronKerbosch(R | v_set, P & set(clique_finder.G[v]), X & set(clique_finder.G[v]))\n",
        "    P = P - v_set\n",
        "    X = X | v_set\n",
        "  return clique_finder.density_to_cliques_1[clique_finder.density]"
      ],
      "metadata": {
        "id": "PNCRrCWRRJID"
      },
      "execution_count": null,
      "outputs": []
    },
    {
      "cell_type": "markdown",
      "source": [
        "# Bron Kerbosch with pivot"
      ],
      "metadata": {
        "id": "LVYjK467R6om"
      }
    },
    {
      "cell_type": "code",
      "source": [
        "def BronKerboschWithPivot(R, P, X):\n",
        "  if len(P) == 0 and len(X) == 0:\n",
        "    #clique_finder.density_to_cliques_2[clique_finder.density] += 1\n",
        "    #print(R)\n",
        "    return\n",
        "\n",
        "  #choose a pivot vertex u in P ⋃ X\n",
        "  u = 0\n",
        "  #take first element as pivot\n",
        "  #note that though this is a loop, it only executes once\n",
        "  #because we just choose the first element as pivot\n",
        "  for pivot in P | X:\n",
        "    u = pivot\n",
        "    break\n",
        "\n",
        "  for v in (P - set(clique_finder.G[u])):\n",
        "    v_set = set()\n",
        "    v_set.add(v)\n",
        "    BronKerboschWithPivot(R | v_set, P & set(clique_finder.G[v]), X & set(clique_finder.G[v]))\n",
        "    P = P - v_set\n",
        "    X = X | v_set\n"
      ],
      "metadata": {
        "id": "o5zu4fTtSAP1"
      },
      "execution_count": null,
      "outputs": []
    },
    {
      "cell_type": "markdown",
      "source": [
        "# Generate graphs and test"
      ],
      "metadata": {
        "id": "22hXbGu2pGU-"
      }
    },
    {
      "cell_type": "code",
      "source": [
        "class CliqueFinder:\n",
        "  def __init__(self):\n",
        "    self.density_to_cliques_1 = {}\n",
        "    self.density_to_cliques_2 = {}\n",
        "    self.density_to_time1 = {}\n",
        "    self.density_to_time2 = {}\n",
        "    self.density = 0\n",
        "    self.G = nx.erdos_renyi_graph(100, self.density)\n",
        "\n",
        "clique_finder = CliqueFinder()\n",
        "\n",
        "def plotter(valueMap, labelX, labelY, name, colour):\n",
        "  myList = valueMap.items()\n",
        "  x, y = zip(*myList)\n",
        "  plt.title(name)\n",
        "  #plt.yticks([0.5, 0.6, 0.7, 0.8, 0.9 , 1.0])\n",
        "  plt.xlabel(labelX)\n",
        "  plt.ylabel(labelY)\n",
        "  #plt.locator_params(axis='y', nbins=6)\n",
        "  plt.plot(x, y, marker = 'o', color = colour)\n",
        "  plt.savefig(str(name))\n",
        "  plt.show()\n",
        "\n",
        "def compareBronKerbosch(initial_density, final_density):\n",
        "  clique_finder.density = initial_density\n",
        "  num_of_graphs = 10\n",
        "  while clique_finder.density <= final_density:\n",
        "    print('Current density = ', clique_finder.density)\n",
        "    #10 graphs of each density\n",
        "    for i in range(0, num_of_graphs):\n",
        "      clique_finder.G = nx.erdos_renyi_graph(20, clique_finder.density)\n",
        "      \n",
        "      #nx.draw(G, with_labels = True)\n",
        "      #plt.show()\n",
        "\n",
        "      X, R = set(), set() \n",
        "      P = set(clique_finder.G.nodes)\n",
        "      print(clique_finder.G)\n",
        "\n",
        "      #initialise nun_of_cliques_by_density\n",
        "      if clique_finder.density_to_cliques_1.get( clique_finder.density) is None:\n",
        "        clique_finder.density_to_cliques_1[clique_finder.density] = 0\n",
        "        clique_finder.density_to_cliques_2[clique_finder.density] = 0\n",
        "        clique_finder.density_to_time1[clique_finder.density] = 0\n",
        "        clique_finder.density_to_time2[clique_finder.density] = 0\n",
        "\n",
        "      start_time = time.time()\n",
        "      print(\"Bron Kerbosch\")\n",
        "      cliques_found = BronKerbosch(R, P, X)\n",
        "      print('Found ', cliques_found)\n",
        "      clique_finder.density_to_time1[clique_finder.density] += (time.time() - start_time)\n",
        "      print(\"--- %s seconds ---\" % (time.time() - start_time))\n",
        "      print(\"- - - - - - - - - \")\n",
        "\n",
        "      X, R = set(), set() \n",
        "      P = set(clique_finder.G.nodes)\n",
        "\n",
        "      start_time = time.time()\n",
        "      print(\"Bron Kerbosch with pivot\")\n",
        "      print('Found ', cliques_found)\n",
        "      cliques_found = BronKerboschWithPivot(R, P, X)\n",
        "      clique_finder.density_to_time2[clique_finder.density] += (time.time() - start_time)\n",
        "\n",
        "      print(\"--- %s seconds ---\" % (time.time() - start_time))\n",
        "      print(\"_______________________________________\")\n",
        "\n",
        "    #take average\n",
        "    print('BK 1 =', clique_finder.density_to_cliques_1[clique_finder.density])\n",
        "    print('BK 2 =', clique_finder.density_to_cliques_2[clique_finder.density])\n",
        "\n",
        "    clique_finder.density_to_cliques_1[clique_finder.density] /= num_of_graphs\n",
        "    clique_finder.density_to_cliques_2[clique_finder.density] /= num_of_graphs\n",
        "    clique_finder.density_to_time1[clique_finder.density]  /= num_of_graphs\n",
        "    clique_finder.density_to_time2[clique_finder.density] /= num_of_graphs\n",
        "\n",
        "    clique_finder.density += 0.1\n"
      ],
      "metadata": {
        "id": "fsUhY133pHrY"
      },
      "execution_count": null,
      "outputs": []
    },
    {
      "cell_type": "code",
      "source": [
        "class CliqueFinder:\n",
        "  def __init__(self):\n",
        "    self.nodes_to_time = {}\n",
        "    self.G = nx.erdos_renyi_graph(5, 0.5)\n",
        "\n",
        "clique_finder = CliqueFinder()\n",
        "\n",
        "def plotter(valueMap, labelX, labelY, name, colour):\n",
        "  myList = valueMap.items()\n",
        "  x, y = zip(*myList)\n",
        "  plt.title(name)\n",
        "  #plt.yticks([0.5, 0.6, 0.7, 0.8, 0.9 , 1.0])\n",
        "  plt.xlabel(labelX)\n",
        "  plt.ylabel(labelY)\n",
        "  #plt.locator_params(axis='y', nbins=6)\n",
        "  plt.plot(x, y, marker = 'o', color = colour)\n",
        "  plt.savefig(str(name))\n",
        "  plt.show()\n",
        "\n",
        "def compareBronKerboschByIncreasingNodes():\n",
        "  num_of_graphs = 3\n",
        "  nodes = 5\n",
        "  while nodes <= 200:\n",
        "    #10 graphs of each density\n",
        "    for i in range(0, num_of_graphs):\n",
        "      clique_finder.G = nx.erdos_renyi_graph(nodes, 0.5)\n",
        "      \n",
        "      #nx.draw(G, with_labels = True)\n",
        "      #plt.show()\n",
        "\n",
        "      X, R = set(), set() \n",
        "      P = set(clique_finder.G.nodes)\n",
        "      print(clique_finder.G)\n",
        "\n",
        "      #initialise nun_of_cliques_by_density\n",
        "      if clique_finder.nodes_to_time.get(nodes) is None:\n",
        "        clique_finder.nodes_to_time[nodes] = 0\n",
        "\n",
        "      X, R = set(), set() \n",
        "      P = set(clique_finder.G.nodes)\n",
        "\n",
        "      start_time = time.time()\n",
        "      print(\"Bron Kerbosch with pivot\")\n",
        "      BronKerboschWithPivot(R, P, X)\n",
        "      clique_finder.nodes_to_time[nodes] += (time.time() - start_time)\n",
        "\n",
        "      print(\"--- %s seconds ---\" % (time.time() - start_time))\n",
        "      print(\"_______________________________________\")\n",
        "\n",
        "\n",
        "\n",
        "    clique_finder.nodes_to_time[nodes] /= num_of_graphs\n",
        "    nodes += 5\n"
      ],
      "metadata": {
        "id": "MFx4zc1o0TXT"
      },
      "execution_count": null,
      "outputs": []
    },
    {
      "cell_type": "code",
      "source": [
        "compareBronKerboschByIncreasingNodes()\n",
        "plotter(clique_finder.nodes_to_time, 'Number of nodes', 'Avg time', 'Bron-kerbosch with pivot (Density = 0.5)', 'red')"
      ],
      "metadata": {
        "id": "zsig_mHVpfGB"
      },
      "execution_count": null,
      "outputs": []
    },
    {
      "cell_type": "code",
      "source": [
        "plt.savefig('Nodes vs time')"
      ],
      "metadata": {
        "colab": {
          "base_uri": "https://localhost:8080/",
          "height": 34
        },
        "id": "zMD-TRZq5-dw",
        "outputId": "55a4b2fd-1f70-41e4-ad4f-c6ae9524444d"
      },
      "execution_count": null,
      "outputs": [
        {
          "output_type": "display_data",
          "data": {
            "text/plain": [
              "<Figure size 432x288 with 0 Axes>"
            ]
          },
          "metadata": {}
        }
      ]
    },
    {
      "cell_type": "code",
      "source": [
        "plotter(clique_finder.density_to_cliques_2, 'Density', 'Avg Number of cliques', 'Bron-kerbosch with pivot', 'green')\n",
        "plotter(clique_finder.density_to_time1, 'Density', 'Avg Time taken (seconds)', 'Bron-kerbosch ', 'blue')\n",
        "plotter(clique_finder.density_to_time2, 'Density', 'Avg Time taken (seconds)', 'Bron-kerbosch with pivot ', 'green')"
      ],
      "metadata": {
        "colab": {
          "base_uri": "https://localhost:8080/",
          "height": 851
        },
        "id": "iI9K7h38rvmA",
        "outputId": "1aba4bf3-518a-4134-cdb5-ae54a7866bf2"
      },
      "execution_count": null,
      "outputs": [
        {
          "output_type": "display_data",
          "data": {
            "image/png": "[encoded data removed]",
            "text/plain": [
              "<Figure size 432x288 with 1 Axes>"
            ]
          },
          "metadata": {
            "needs_background": "light"
          }
        },
        {
          "output_type": "display_data",
          "data": {
            "image/png": "[encoded data removed]",
            "text/plain": [
              "<Figure size 432x288 with 1 Axes>"
            ]
          },
          "metadata": {
            "needs_background": "light"
          }
        },
        {
          "output_type": "display_data",
          "data": {
            "image/png": "[encoded data removed]",
            "text/plain": [
              "<Figure size 432x288 with 1 Axes>"
            ]
          },
          "metadata": {
            "needs_background": "light"
          }
        }
      ]
    }
  ]
}